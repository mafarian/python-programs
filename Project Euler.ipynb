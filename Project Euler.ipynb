{
 "cells": [
  {
   "cell_type": "code",
   "execution_count": 1,
   "metadata": {},
   "outputs": [
    {
     "name": "stdout",
     "output_type": "stream",
     "text": [
      "499500\n"
     ]
    }
   ],
   "source": [
    "# 1\n",
    "\n",
    "s = 0\n",
    "maxn = 1000\n",
    "\n",
    "for n in range(1,1000):\n",
    "    if n%3 == 0:\n",
    "        s = s + n\n",
    "    else if n%5 :\n",
    "        s = s + n\n",
    "        \n",
    "print(s)\n",
    "    "
   ]
  },
  {
   "cell_type": "code",
   "execution_count": 9,
   "metadata": {},
   "outputs": [
    {
     "name": "stdout",
     "output_type": "stream",
     "text": [
      "4613732\n"
     ]
    }
   ],
   "source": [
    "# 2\n",
    "\n",
    "s = 2\n",
    "i0 = 1\n",
    "i1 = 2\n",
    "i2 = 3\n",
    "\n",
    "while i2 <= 4000000:\n",
    "    if i2%2 == 0:\n",
    "        s = s + i2\n",
    "    \n",
    "    i0 = i1\n",
    "    i1 = i2\n",
    "    \n",
    "    i2 = i1 + i0\n",
    "\n",
    "print(s)"
   ]
  },
  {
   "cell_type": "code",
   "execution_count": 3,
   "metadata": {},
   "outputs": [
    {
     "name": "stdout",
     "output_type": "stream",
     "text": [
      "6857\n"
     ]
    }
   ],
   "source": [
    "# 3\n",
    "\n",
    "i = 2\n",
    "n = 600851475143\n",
    "\n",
    "while n/i != 1:\n",
    "    if n%i == 0:\n",
    "        n = n/i\n",
    "    else:\n",
    "        i = i + 1\n",
    "\n",
    "print(i)"
   ]
  },
  {
   "cell_type": "code",
   "execution_count": 1,
   "metadata": {
    "scrolled": true
   },
   "outputs": [
    {
     "name": "stdout",
     "output_type": "stream",
     "text": [
      "906609\n"
     ]
    }
   ],
   "source": [
    "# 4\n",
    "\n",
    "maior = 0\n",
    "\n",
    "for i in range(999,101,-1):\n",
    "    for j in range(999,101,-1):\n",
    "        n = str(i*j)\n",
    "        m = n[::-1]\n",
    "        \n",
    "        if m == n:\n",
    "            if int(m) > maior:\n",
    "                maior = int(m)\n",
    "                \n",
    "print(maior)"
   ]
  },
  {
   "cell_type": "code",
   "execution_count": 12,
   "metadata": {},
   "outputs": [
    {
     "name": "stdout",
     "output_type": "stream",
     "text": [
      "232792560\n"
     ]
    }
   ],
   "source": [
    "# 5\n",
    "\n",
    "s = 0\n",
    "n = 2\n",
    "m = 1\n",
    "\n",
    "while s < 19:\n",
    "    c = 0\n",
    "    m = m*n\n",
    "    \n",
    "    for i in range(2,21):\n",
    "        if m%i == 0:\n",
    "            c = c + 1\n",
    "    \n",
    "    if c == s:\n",
    "        m = m//n\n",
    "        n = n + 1\n",
    "    elif c > s:\n",
    "        s = c\n",
    "\n",
    "print(m)"
   ]
  },
  {
   "cell_type": "code",
   "execution_count": 5,
   "metadata": {},
   "outputs": [
    {
     "name": "stdout",
     "output_type": "stream",
     "text": [
      "25164150\n"
     ]
    }
   ],
   "source": [
    "# 6\n",
    "\n",
    "q = 0\n",
    "s = 0\n",
    "\n",
    "for i in range(1,101):\n",
    "    q = q + i**2\n",
    "    s = s + i\n",
    "\n",
    "print((s**2)-q)"
   ]
  },
  {
   "cell_type": "code",
   "execution_count": 58,
   "metadata": {},
   "outputs": [
    {
     "name": "stdout",
     "output_type": "stream",
     "text": [
      "104743\n",
      "36.41217875480652 s\n"
     ]
    }
   ],
   "source": [
    "# 7 beta\n",
    "import time\n",
    "inicio = time.time()\n",
    "k = 1\n",
    "n = 1\n",
    "\n",
    "while k < 10001:\n",
    "    c = 0\n",
    "    i = 1\n",
    "    n = n + 2\n",
    "    \n",
    "    while c == 0:\n",
    "        i = i + 2\n",
    "        if n%i == 0:\n",
    "            c = 1\n",
    "            if n == i:\n",
    "                k = k + 1\n",
    "    \n",
    "print(n)\n",
    "print(\"%s s\" % (time.time() - inicio))"
   ]
  },
  {
   "cell_type": "code",
   "execution_count": 6,
   "metadata": {},
   "outputs": [
    {
     "name": "stdout",
     "output_type": "stream",
     "text": [
      "23514624000\n"
     ]
    }
   ],
   "source": [
    "# 8\n",
    "# ou usar a sintaxe [int(v) for v in str(numerozao)] p tranformar em vetor \n",
    "v = '7316717653133062491922511967442657474235534919493496983520312774506326239578318016984801869478851843858615607891129494954595017379583319528532088055111254069874715852386305071569329096329522744304355766896648950445244523161731856403098711121722383113622298934233803081353362766142828064444866452387493035890729629049156044077239071381051585930796086670172427121883998797908792274921901699720888093776657273330010533678812202354218097512545405947522435258490771167055601360483958644670632441572215539753697817977846174064955149290862569321978468622482839722413756570560574902614079729686524145351004748216637048440319989000889524345065854122758866688116427171479924442928230863465674813919123162824586178664583591245665294765456828489128831426076900422421902267105562632111110937054421750694165896040807198403850962455444362981230987879927244284909188845801561660979191338754992005240636899125607176060588611646710940507754100225698315520005593572972571636269561882670428252483600823257530420752963450'\n",
    "\n",
    "maior = 0\n",
    "\n",
    "for i in range(0,987):\n",
    "    p = 1\n",
    "    for k in range(0,13):\n",
    "        p = p*int(v[i+k])\n",
    "    if p > maior:\n",
    "        maior = p\n",
    "\n",
    "print(maior)"
   ]
  },
  {
   "cell_type": "code",
   "execution_count": 7,
   "metadata": {},
   "outputs": [
    {
     "name": "stdout",
     "output_type": "stream",
     "text": [
      "31875000\n"
     ]
    }
   ],
   "source": [
    "# 9\n",
    "\n",
    "k = 0\n",
    "\n",
    "for a in range(0,1000):\n",
    "    for b in range(a+1,1000):\n",
    "        c = (a**2 + b**2)**0.5\n",
    "        if c > b:\n",
    "            if a + b + c == 1000:\n",
    "                print(int(a*b*c))\n",
    "                k = 1\n",
    "        if k == 1:\n",
    "            break\n",
    "    if k == 1:\n",
    "        break"
   ]
  },
  {
   "cell_type": "code",
   "execution_count": 49,
   "metadata": {
    "scrolled": true
   },
   "outputs": [
    {
     "name": "stdout",
     "output_type": "stream",
     "text": [
      "142913828922\n",
      "105.18088817596436 s\n"
     ]
    }
   ],
   "source": [
    "# 10\n",
    "\n",
    "import time\n",
    "inicio = time.time()\n",
    "\n",
    "NUM = 2000000\n",
    "n = [0]*NUM\n",
    "\n",
    "for i in range(2,NUM):\n",
    "    n[i] = i\n",
    "\n",
    "k = 1\n",
    "s = 0\n",
    "\n",
    "while k < NUM-1:\n",
    "    i = 1\n",
    "    k = k + 1\n",
    "    \n",
    "    while n[k] != 0:\n",
    "        i = i + 1\n",
    "        if ((k%i == 0) and (k == i)) or (i >= sqrt(NUM)+1):\n",
    "            s = s + n[k]\n",
    "            j = i\n",
    "            while (j+i) < NUM:\n",
    "                j = j+i\n",
    "                n[j] = 0\n",
    "            break\n",
    "    \n",
    "print(s)\n",
    "print(\"%s s\" % (time.time() - inicio))"
   ]
  },
  {
   "cell_type": "code",
   "execution_count": 1,
   "metadata": {},
   "outputs": [],
   "source": [
    "import numpy as np\n",
    "\n",
    "matriz = '08 02 22 97 38 15 00 40 00 75 04 05 07 78 52 12 50 77 91 08 49 49 99 40 17 81 18 57 60 87 17 40 98 43 69 48 04 56 62 00 81 49 31 73 55 79 14 29 93 71 40 67 53 88 30 03 49 13 36 65 52 70 95 23 04 60 11 42 69 24 68 56 01 32 56 71 37 02 36 91 22 31 16 71 51 67 63 89 41 92 36 54 22 40 40 28 66 33 13 80 24 47 32 60 99 03 45 02 44 75 33 53 78 36 84 20 35 17 12 50 32 98 81 28 64 23 67 10 26 38 40 67 59 54 70 66 18 38 64 70 67 26 20 68 02 62 12 20 95 63 94 39 63 08 40 91 66 49 94 21 24 55 58 05 66 73 99 26 97 17 78 78 96 83 14 88 34 89 63 72 21 36 23 09 75 00 76 44 20 45 35 14 00 61 33 97 34 31 33 95 78 17 53 28 22 75 31 67 15 94 03 80 04 62 16 14 09 53 56 92 16 39 05 42 96 35 31 47 55 58 88 24 00 17 54 24 36 29 85 57 86 56 00 48 35 71 89 07 05 44 44 37 44 60 21 58 51 54 17 58 19 80 81 68 05 94 47 69 28 73 92 13 86 52 17 77 04 89 55 40 04 52 08 83 97 35 99 16 07 97 57 32 16 26 26 79 33 27 98 66 88 36 68 87 57 62 20 72 03 46 33 67 46 55 12 32 63 93 53 69 04 42 16 73 38 25 39 11 24 94 72 18 08 46 29 32 40 62 76 36 20 69 36 41 72 30 23 88 34 62 99 69 82 67 59 85 74 04 36 16 20 73 35 29 78 31 90 01 74 31 49 71 48 86 81 16 23 57 05 54 01 70 54 71 83 51 54 69 16 92 33 48 61 43 52 01 89 19 67 48'\n",
    "matriz = ','.join(matriz.split(' '))\n",
    "#print(matriz)"
   ]
  },
  {
   "cell_type": "code",
   "execution_count": 51,
   "metadata": {},
   "outputs": [
    {
     "ename": "KeyboardInterrupt",
     "evalue": "",
     "output_type": "error",
     "traceback": [
      "\u001b[0;31m---------------------------------------------------------------------------\u001b[0m",
      "\u001b[0;31mKeyboardInterrupt\u001b[0m                         Traceback (most recent call last)",
      "\u001b[0;32m<ipython-input-51-0d7c839e424e>\u001b[0m in \u001b[0;36m<module>\u001b[0;34m()\u001b[0m\n\u001b[1;32m     11\u001b[0m \u001b[0;34m\u001b[0m\u001b[0m\n\u001b[1;32m     12\u001b[0m     \u001b[0;32mfor\u001b[0m \u001b[0mj\u001b[0m \u001b[0;32min\u001b[0m \u001b[0mrange\u001b[0m\u001b[0;34m(\u001b[0m\u001b[0;36m2\u001b[0m\u001b[0;34m,\u001b[0m\u001b[0;34m(\u001b[0m\u001b[0mtri\u001b[0m\u001b[0;34m//\u001b[0m\u001b[0;36m2\u001b[0m\u001b[0;34m)\u001b[0m\u001b[0;34m+\u001b[0m\u001b[0;36m1\u001b[0m\u001b[0;34m)\u001b[0m\u001b[0;34m:\u001b[0m\u001b[0;34m\u001b[0m\u001b[0m\n\u001b[0;32m---> 13\u001b[0;31m         \u001b[0;32mif\u001b[0m \u001b[0mtri\u001b[0m\u001b[0;34m%\u001b[0m\u001b[0mj\u001b[0m \u001b[0;34m==\u001b[0m \u001b[0;36m0\u001b[0m\u001b[0;34m:\u001b[0m\u001b[0;34m\u001b[0m\u001b[0m\n\u001b[0m\u001b[1;32m     14\u001b[0m             \u001b[0mcont\u001b[0m \u001b[0;34m+=\u001b[0m \u001b[0;36m1\u001b[0m\u001b[0;34m\u001b[0m\u001b[0m\n\u001b[1;32m     15\u001b[0m         \u001b[0;32mif\u001b[0m \u001b[0mcont\u001b[0m \u001b[0;34m>\u001b[0m \u001b[0;36m500\u001b[0m\u001b[0;34m:\u001b[0m\u001b[0;34m\u001b[0m\u001b[0m\n",
      "\u001b[0;31mKeyboardInterrupt\u001b[0m: "
     ]
    }
   ],
   "source": [
    "# 12\n",
    "\n",
    "tri = 1\n",
    "i = 1\n",
    "c = 0\n",
    "\n",
    "while c == 0:\n",
    "    i = i + 1\n",
    "    tri = tri + i\n",
    "    cont = 2\n",
    "    \n",
    "    for j in range(2,(tri//2)+1):\n",
    "        if tri%j == 0:\n",
    "            cont += 1\n",
    "        if cont > 500:\n",
    "            c = 1\n",
    "            break\n",
    "\n",
    "print(tri, cont)"
   ]
  },
  {
   "cell_type": "code",
   "execution_count": null,
   "metadata": {
    "collapsed": true
   },
   "outputs": [],
   "source": []
  }
 ],
 "metadata": {
  "kernelspec": {
   "display_name": "Python 3",
   "language": "python",
   "name": "python3"
  },
  "language_info": {
   "codemirror_mode": {
    "name": "ipython",
    "version": 3
   },
   "file_extension": ".py",
   "mimetype": "text/x-python",
   "name": "python",
   "nbconvert_exporter": "python",
   "pygments_lexer": "ipython3",
   "version": "3.7.1"
  }
 },
 "nbformat": 4,
 "nbformat_minor": 2
}
